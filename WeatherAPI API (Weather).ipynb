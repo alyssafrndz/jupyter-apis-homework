{
 "cells": [
  {
   "cell_type": "markdown",
   "metadata": {},
   "source": [
    "# WeatherAPI (Weather)\n",
    "\n",
    "Answer the following questions using [WeatherAPI](http://www.weatherapi.com/). I've added three cells for most questions but you're free to use more or less! Hold `Shift` and hit `Enter` to run a cell, and use the `+` on the top left to add a new cell to a notebook.\n",
    "\n",
    "Be sure to take advantage of both the documentation and the API Explorer!\n",
    "\n",
    "## 0) Import any libraries you might need\n",
    "\n",
    "- *Tip: We're going to be downloading things from the internet, so we probably need `requests`.*\n",
    "- *Tip: Remember you only need to import requests once!*"
   ]
  },
  {
   "cell_type": "code",
   "execution_count": 2,
   "metadata": {},
   "outputs": [],
   "source": [
    "import requests\n"
   ]
  },
  {
   "cell_type": "code",
   "execution_count": null,
   "metadata": {
    "collapsed": true
   },
   "outputs": [],
   "source": []
  },
  {
   "cell_type": "markdown",
   "metadata": {
    "collapsed": true
   },
   "source": [
    "## 1) Make a request to the Weather API for where you were born (or lived, or want to visit!).\n",
    "\n",
    "- *Tip: This sure seems familiar.*"
   ]
  },
  {
   "cell_type": "code",
   "execution_count": 4,
   "metadata": {},
   "outputs": [
    {
     "name": "stdout",
     "output_type": "stream",
     "text": [
      "{'location': {'name': 'Dallas', 'region': 'Texas', 'country': 'United States of America', 'lat': 32.78, 'lon': -96.8, 'tz_id': 'America/Chicago', 'localtime_epoch': 1624399445, 'localtime': '2021-06-22 17:04'}, 'current': {'last_updated_epoch': 1624395600, 'last_updated': '2021-06-22 16:00', 'temp_c': 30.0, 'temp_f': 86.0, 'is_day': 1, 'condition': {'text': 'Partly cloudy', 'icon': '//cdn.weatherapi.com/weather/64x64/day/116.png', 'code': 1003}, 'wind_mph': 9.4, 'wind_kph': 15.1, 'wind_degree': 120, 'wind_dir': 'ESE', 'pressure_mb': 1015.0, 'pressure_in': 30.5, 'precip_mm': 0.0, 'precip_in': 0.0, 'humidity': 48, 'cloud': 75, 'feelslike_c': 30.9, 'feelslike_f': 87.6, 'vis_km': 16.0, 'vis_miles': 9.0, 'uv': 7.0, 'gust_mph': 9.8, 'gust_kph': 15.8}}\n"
     ]
    }
   ],
   "source": [
    "dallas_endpoint = \"https://api.weatherapi.com/v1/current.json?key=4f9e220275a94e1e9f622343211606&q=Dallas\"\n",
    "\n",
    "response = requests.get(dallas_endpoint)\n",
    "dallas_data = response.json()\n",
    "\n",
    "print(dallas_data)"
   ]
  },
  {
   "cell_type": "code",
   "execution_count": null,
   "metadata": {
    "collapsed": true
   },
   "outputs": [],
   "source": []
  },
  {
   "cell_type": "code",
   "execution_count": null,
   "metadata": {
    "collapsed": true
   },
   "outputs": [],
   "source": []
  },
  {
   "cell_type": "markdown",
   "metadata": {},
   "source": [
    "## 2) What's the current wind speed, and how much warmer does it feel than it actually is?\n",
    "\n",
    "- *Tip: You can do this by browsing through the dictionaries, but it might be easier to read the documentation*\n",
    "- *Tip: For the second half: it **is** one temperature, and it **feels** a different temperature. Calculate the difference. Same as we did last time!*"
   ]
  },
  {
   "cell_type": "code",
   "execution_count": 8,
   "metadata": {},
   "outputs": [
    {
     "name": "stdout",
     "output_type": "stream",
     "text": [
      "The current wind speed in Dallas is 9.8 mph\n"
     ]
    }
   ],
   "source": [
    "dallas_wind = (dallas_data[\"current\"][\"gust_mph\"])\n",
    "print(\"The current wind speed in Dallas is\", dallas_wind, \"mph\")"
   ]
  },
  {
   "cell_type": "code",
   "execution_count": 11,
   "metadata": {},
   "outputs": [
    {
     "name": "stdout",
     "output_type": "stream",
     "text": [
      "It is currently 86.0 but it feels 2 degrees warmer.\n"
     ]
    }
   ],
   "source": [
    "current_temp = (dallas_data[\"current\"][\"temp_f\"]) #temp_f and feelslike_f\n",
    "feelslike_temp = (dallas_data[\"current\"][\"feelslike_f\"])\n",
    "difference_temp = round(feelslike_temp - current_temp)\n",
    "\n",
    "print(\"It is currently\", current_temp, \"but it feels\", difference_temp, \"degrees warmer.\")\n"
   ]
  },
  {
   "cell_type": "code",
   "execution_count": null,
   "metadata": {},
   "outputs": [],
   "source": []
  },
  {
   "cell_type": "markdown",
   "metadata": {},
   "source": [
    "## 3) What is the API endpoint for moon-related information? For the place you decided on above, how much of the moon will be visible on next Thursday?\n",
    "\n",
    "- *Tip: Check the documentation!*\n",
    "- *Tip: If you aren't sure what something means, ask in Slack*"
   ]
  },
  {
   "cell_type": "code",
   "execution_count": 24,
   "metadata": {},
   "outputs": [
    {
     "name": "stdout",
     "output_type": "stream",
     "text": [
      "The moon visibility on Thursday, June 24th in Dallas will be 100\n"
     ]
    }
   ],
   "source": [
    "dallas_moon_ep_current = \"https://api.weatherapi.com/v1/astronomy.json?key=4f9e220275a94e1e9f622343211606&q=dallas&dt=2021-06-22\"\n",
    "dallas_moon_ep_thur = \"https://api.weatherapi.com/v1/astronomy.json?key=4f9e220275a94e1e9f622343211606&q=dallas&dt=2021-06-24\"\n",
    "\n",
    "response = requests.get(dallas_moon_ep_thur)\n",
    "dallas_moon_ep = response.json()\n",
    "\n",
    "\n",
    "dallas_moon_ill = dallas_moon_ep[\"astronomy\"][\"astro\"][\"moon_illumination\"]\n",
    "\n",
    "print(\"The moon visibility on Thursday, June 24th in Dallas will be\", dallas_moon_ill)"
   ]
  },
  {
   "cell_type": "code",
   "execution_count": null,
   "metadata": {},
   "outputs": [],
   "source": []
  },
  {
   "cell_type": "code",
   "execution_count": null,
   "metadata": {},
   "outputs": [],
   "source": []
  },
  {
   "cell_type": "markdown",
   "metadata": {},
   "source": [
    "## 4) What's the difference between the high and low temperatures for today?\n",
    "\n",
    "- *Tip: When you requested moon data, you probably overwrote your variables! If so, you'll need to make a new request.*"
   ]
  },
  {
   "cell_type": "code",
   "execution_count": 71,
   "metadata": {},
   "outputs": [],
   "source": [
    "new_dallas_ep = \"https://api.weatherapi.com/v1/forecast.json?key=4f9e220275a94e1e9f622343211606&q=dallas&days=1&aqi=no&alerts=no\"\n",
    "response = requests.get(new_dallas_ep)\n",
    "dallas_data = response.json()\n",
    "\n",
    "#print(dallas_data.keys())\n",
    "#dallas_data[\"current\"]"
   ]
  },
  {
   "cell_type": "code",
   "execution_count": 68,
   "metadata": {},
   "outputs": [],
   "source": [
    "dallas_forecast = dallas_data[\"forecast\"][\"forecastday\"]"
   ]
  },
  {
   "cell_type": "code",
   "execution_count": 70,
   "metadata": {},
   "outputs": [
    {
     "name": "stdout",
     "output_type": "stream",
     "text": [
      "The difference between the high and low temperature of today in Dallas is 17 degrees F.\n"
     ]
    }
   ],
   "source": [
    "maxtemp_dallas = 0\n",
    "mintemp_dallas = 0\n",
    "\n",
    "for day in dallas_forecast:\n",
    "    maxtemp_dallas = (day[\"day\"][\"maxtemp_f\"])\n",
    "    mintemp_dallas = (day[\"day\"][\"mintemp_f\"])\n",
    "    \n",
    "difference_temp = round(maxtemp_dallas - mintemp_dallas)\n",
    "    \n",
    "\n",
    "print(\"The difference between the high and low temperature of today in Dallas is\", difference_temp, \"degrees F.\")"
   ]
  },
  {
   "cell_type": "code",
   "execution_count": null,
   "metadata": {},
   "outputs": [],
   "source": []
  },
  {
   "cell_type": "markdown",
   "metadata": {
    "collapsed": true
   },
   "source": [
    "## 4.5) How can you avoid the \"oh no I don't have the data any more because I made another request\" problem in the future?\n",
    "\n",
    "What variable(s) do you have to rename, and what would you rename them?"
   ]
  },
  {
   "cell_type": "markdown",
   "metadata": {},
   "source": [
    "I'm not sure to be honest, I'll have to ask during office hours. So far, I'd just be more organized in my notebook. "
   ]
  },
  {
   "cell_type": "code",
   "execution_count": null,
   "metadata": {},
   "outputs": [],
   "source": []
  },
  {
   "cell_type": "markdown",
   "metadata": {},
   "source": [
    "## 5) Go through the daily forecasts, printing out the next week's worth of predictions.\n",
    "\n",
    "I'd like to know the **high temperature** for each day, and whether it's **hot, warm, or cold** (based on what temperatures you think are hot, warm or cold).\n",
    "\n",
    "- *Tip: You'll need to use an `if` statement to say whether it is hot, warm or cold.*"
   ]
  },
  {
   "cell_type": "code",
   "execution_count": 94,
   "metadata": {},
   "outputs": [
    {
     "name": "stdout",
     "output_type": "stream",
     "text": [
      "The highest temperature for 2021-06-22 will be 85.1\n",
      "Today is warm.\n",
      "The highest temperature for 2021-06-23 will be 93.6\n",
      "Today is warm.\n",
      "The highest temperature for 2021-06-24 will be 95.5\n",
      "Today is muy caliente!\n"
     ]
    }
   ],
   "source": [
    "forecast_ep = \"https://api.weatherapi.com/v1/forecast.json?key=4f9e220275a94e1e9f622343211606&q=Dallas&days=7&aqi=no&alerts=no\"\n",
    "response = requests.get(forecast_ep)\n",
    "forecast_dallas = response.json()\n",
    "\n",
    "new_forecast = forecast_dallas[\"forecast\"][\"forecastday\"]\n",
    "\n",
    "for temp in new_forecast:\n",
    "    forecast_day = temp[\"date\"]\n",
    "    maxtemp = temp[\"day\"][\"maxtemp_f\"]\n",
    "    print(\"The highest temperature for\", forecast_day, \"will be\", maxtemp)\n",
    "    if maxtemp >= 95:\n",
    "        print(\"Today is muy caliente!\")\n",
    "    elif maxtemp >= 75:\n",
    "        print(\"Today is warm.\")\n",
    "    elif maxtemp < 70:\n",
    "        print(\"Today is cold.\")\n"
   ]
  },
  {
   "cell_type": "code",
   "execution_count": null,
   "metadata": {},
   "outputs": [],
   "source": []
  },
  {
   "cell_type": "code",
   "execution_count": null,
   "metadata": {},
   "outputs": [],
   "source": []
  },
  {
   "cell_type": "markdown",
   "metadata": {},
   "source": [
    "# 6) What will be the hottest day in the next week? What is the high temperature on that day?"
   ]
  },
  {
   "cell_type": "code",
   "execution_count": 101,
   "metadata": {},
   "outputs": [
    {
     "name": "stdout",
     "output_type": "stream",
     "text": [
      "2021-06-24 is the highest temperature of the next three days at 95.5 degrees F.\n"
     ]
    }
   ],
   "source": [
    "maxtemp_forecast = 0 \n",
    "\n",
    "for temp in new_forecast:\n",
    "    forecast_day = temp[\"date\"]\n",
    "    maxtemp = temp[\"day\"][\"maxtemp_f\"]\n",
    "    if maxtemp > maxtemp_forecast:\n",
    "        maxtemp_forecast = maxtemp\n",
    "\n",
    "print(forecast_day, \"is the highest temperature of the next three days at\", maxtemp_forecast, \"degrees F.\")"
   ]
  },
  {
   "cell_type": "code",
   "execution_count": null,
   "metadata": {
    "collapsed": true
   },
   "outputs": [],
   "source": []
  },
  {
   "cell_type": "code",
   "execution_count": null,
   "metadata": {
    "collapsed": true
   },
   "outputs": [],
   "source": []
  },
  {
   "cell_type": "markdown",
   "metadata": {},
   "source": [
    "## 7) What's the weather looking like for the next 24+ hours in Miami, Florida?\n",
    "\n",
    "I'd like to know the temperature for every hour, and if it's going to have cloud cover of more than 50% say \"{temperature} and cloudy\" instead of just the temperature. \n",
    "\n",
    "- *Tip: You'll only need one day of forecast*"
   ]
  },
  {
   "cell_type": "code",
   "execution_count": 125,
   "metadata": {},
   "outputs": [],
   "source": [
    "miami_ep = \"https://api.weatherapi.com/v1/forecast.json?key=4f9e220275a94e1e9f622343211606&q=Miami&days=1&aqi=no&alerts=no\"\n",
    "response = requests.get(miami_ep)\n",
    "miami_data = response.json()\n",
    "\n",
    "new_miami = miami_data[\"forecast\"][\"forecastday\"]\n"
   ]
  },
  {
   "cell_type": "code",
   "execution_count": 124,
   "metadata": {},
   "outputs": [
    {
     "name": "stdout",
     "output_type": "stream",
     "text": [
      "The time and day is 2021-06-22 00:00 in Miami and it is 83.7 degrees F.\n",
      "The time and day is 2021-06-22 01:00 in Miami and it is 83.3 degrees F.\n",
      "The time and day is 2021-06-22 02:00 in Miami and it is 83.1 degrees F.\n",
      "The time and day is 2021-06-22 03:00 in Miami and it is 83.1 degrees F.\n",
      "The time and day is 2021-06-22 04:00 in Miami and it is 83.1 degrees F and cloudy.\n",
      "The time and day is 2021-06-22 05:00 in Miami and it is 83.1 degrees F and cloudy.\n",
      "The time and day is 2021-06-22 06:00 in Miami and it is 83.5 degrees F and cloudy.\n",
      "The time and day is 2021-06-22 07:00 in Miami and it is 84.0 degrees F and cloudy.\n",
      "The time and day is 2021-06-22 08:00 in Miami and it is 84.4 degrees F and cloudy.\n",
      "The time and day is 2021-06-22 09:00 in Miami and it is 84.7 degrees F and cloudy.\n",
      "The time and day is 2021-06-22 10:00 in Miami and it is 84.9 degrees F and cloudy.\n",
      "The time and day is 2021-06-22 11:00 in Miami and it is 85.3 degrees F and cloudy.\n",
      "The time and day is 2021-06-22 12:00 in Miami and it is 85.5 degrees F and cloudy.\n",
      "The time and day is 2021-06-22 13:00 in Miami and it is 85.8 degrees F.\n",
      "The time and day is 2021-06-22 14:00 in Miami and it is 86.0 degrees F.\n",
      "The time and day is 2021-06-22 15:00 in Miami and it is 86.0 degrees F.\n",
      "The time and day is 2021-06-22 16:00 in Miami and it is 86.0 degrees F and cloudy.\n",
      "The time and day is 2021-06-22 17:00 in Miami and it is 86.0 degrees F and cloudy.\n",
      "The time and day is 2021-06-22 18:00 in Miami and it is 85.6 degrees F and cloudy.\n",
      "The time and day is 2021-06-22 19:00 in Miami and it is 85.5 degrees F and cloudy.\n",
      "The time and day is 2021-06-22 20:00 in Miami and it is 85.1 degrees F and cloudy.\n",
      "The time and day is 2021-06-22 21:00 in Miami and it is 84.9 degrees F and cloudy.\n",
      "The time and day is 2021-06-22 22:00 in Miami and it is 84.7 degrees F and cloudy.\n",
      "The time and day is 2021-06-22 23:00 in Miami and it is 84.6 degrees F and cloudy.\n"
     ]
    }
   ],
   "source": [
    "for hour in new_miami:\n",
    "    for time in hour[\"hour\"]:\n",
    "        time_day = time[\"time\"]\n",
    "        temp_day = time[\"temp_f\"]\n",
    "        cloud_day = time[\"cloud\"]\n",
    "        if cloud_day > 50: \n",
    "            print(\"The time and day is\", time_day, \"in Miami and it is\", temp_day, \"degrees F and cloudy.\")\n",
    "        else: \n",
    "            print(\"The time and day is\", time_day, \"in Miami and it is\", temp_day, \"degrees F.\")\n",
    "        "
   ]
  },
  {
   "cell_type": "code",
   "execution_count": null,
   "metadata": {
    "collapsed": true
   },
   "outputs": [],
   "source": []
  },
  {
   "cell_type": "markdown",
   "metadata": {},
   "source": [
    "# 8) For the next 24-ish hours in Miami, what percent of the time is the temperature above 85 degrees?\n",
    "\n",
    "- *Tip: You might want to read up on [looping patterns](http://jonathansoma.com/lede/foundations-2017/classes/data%20structures/looping-patterns/)*"
   ]
  },
  {
   "cell_type": "code",
   "execution_count": 134,
   "metadata": {},
   "outputs": [
    {
     "name": "stdout",
     "output_type": "stream",
     "text": [
      "For the next 24 hours in Miami, it will be above 85 degrees for 42 percent of the time.\n"
     ]
    }
   ],
   "source": [
    "count = 0\n",
    "\n",
    "for hour in new_miami:\n",
    "    for time in hour[\"hour\"]:\n",
    "        temp_day = time[\"temp_f\"]\n",
    "        if temp_day > 85: \n",
    "            count = count + 1\n",
    "\n",
    "percent_85 = round((count * 100) / 24)\n",
    "print(\"For the next 24 hours in Miami, it will be above 85 degrees for\", percent_85, \"percent of the time.\")"
   ]
  },
  {
   "cell_type": "code",
   "execution_count": null,
   "metadata": {
    "collapsed": true
   },
   "outputs": [],
   "source": []
  },
  {
   "cell_type": "code",
   "execution_count": null,
   "metadata": {
    "collapsed": true
   },
   "outputs": [],
   "source": []
  },
  {
   "cell_type": "markdown",
   "metadata": {},
   "source": [
    "## 9) What was the temperature in Central Park on Christmas Day, 2020? How about 2012? 2007? How far back does the API allow you to go?\n",
    "\n",
    "- *Tip: You'll need to use latitude/longitude. You can ask Google where Central Park is, it knows*\n",
    "- *Tip: Remember when latitude/longitude might use negative numbers*"
   ]
  },
  {
   "cell_type": "markdown",
   "metadata": {
    "collapsed": true
   },
   "source": [
    "Can't finish this portion, my free trial expired :( \n",
    "The data in the cell below shows for Miami, not Central Park despite having different coordiantes and date. "
   ]
  },
  {
   "cell_type": "code",
   "execution_count": 137,
   "metadata": {
    "scrolled": false
   },
   "outputs": [],
   "source": [
    "cp_endpoint = \"https://api.weatherapi.com/v1/history.json?key=4f9e220275a94e1e9f622343211606&q=40.7812,73.9665&dt=2020-12-25\"\n",
    "reponse = requests.get(cp_endpoint)\n",
    "cp_data = response.json()\n",
    "\n",
    "#print(cp_data)"
   ]
  },
  {
   "cell_type": "code",
   "execution_count": null,
   "metadata": {
    "collapsed": true
   },
   "outputs": [],
   "source": []
  }
 ],
 "metadata": {
  "kernelspec": {
   "display_name": "Python 3",
   "language": "python",
   "name": "python3"
  },
  "language_info": {
   "codemirror_mode": {
    "name": "ipython",
    "version": 3
   },
   "file_extension": ".py",
   "mimetype": "text/x-python",
   "name": "python",
   "nbconvert_exporter": "python",
   "pygments_lexer": "ipython3",
   "version": "3.8.10"
  }
 },
 "nbformat": 4,
 "nbformat_minor": 1
}
